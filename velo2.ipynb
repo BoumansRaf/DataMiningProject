{
 "cells": [
  {
   "cell_type": "markdown",
   "metadata": {
    "hide_input": true
   },
   "source": [
    "# Velo Antwerpen"
   ]
  },
  {
   "cell_type": "code",
   "execution_count": 1,
   "metadata": {},
   "outputs": [
    {
     "name": "stdout",
     "output_type": "stream",
     "text": [
      "0.5.0\n"
     ]
    }
   ],
   "source": [
    "# Run time: short.\n",
    "\n",
    "import folium\n",
    "from pyspark.sql import SQLContext\n",
    "from pyspark import SparkContext\n",
    "\n",
    "# Folium version\n",
    "print(folium.__version__)\n",
    "# Spark context\n",
    "sc = SparkContext.getOrCreate()\n",
    "# SQLContext\n",
    "sqlContext = SQLContext.getOrCreate(sc=sc)\n",
    "# Months that we have data on.\n",
    "MONTHS = ['january', \n",
    "          'february',\n",
    "          'march',\n",
    "          'april',\n",
    "          'may',\n",
    "          'june',\n",
    "          'july',\n",
    "          'august',\n",
    "          'september',\n",
    "          'october',\n",
    "          'november']\n"
   ]
  },
  {
   "cell_type": "code",
   "execution_count": 2,
   "metadata": {
    "hide_input": false
   },
   "outputs": [
    {
     "name": "stdout",
     "output_type": "stream",
     "text": [
      "Loading data...\n",
      "loading january\n",
      "loading february\n",
      "loading march\n",
      "loading april\n",
      "loading may\n",
      "loading june\n",
      "loading july\n",
      "loading august\n",
      "loading september\n",
      "loading october\n",
      "loading november\n",
      "Data loaded\n"
     ]
    }
   ],
   "source": [
    "# Run time: short.\n",
    "\n",
    "from datetime import datetime\n",
    "from pyspark.sql.types import *\n",
    "\n",
    "\n",
    "# Collect station data.\n",
    "def make_station_dict(data: object) -> object:\n",
    "    station_dict = {}\n",
    "    station_lines = data.collect()\n",
    "    for line in station_lines:\n",
    "        line = line.replace('\"', '')\n",
    "        all_vals = line.split(';')\n",
    "        # key = station_nr, value = name, slots, lat, lng\n",
    "        station_dict[int(all_vals[6])] = [all_vals[7], int(all_vals[8]),\n",
    "                                          float(all_vals[2]), float(all_vals[3])]\n",
    "    return station_dict\n",
    "\n",
    "\n",
    "station_data = (sc.textFile(name='./Velo_Archive/velostation.csv').filter(lambda l: 'objectid' not in l)).cache()\n",
    "s = make_station_dict(station_data)\n",
    "# append missing station data.\n",
    "s[13] = ['De Singel', 36, 51.193854, 4.402448]\n",
    "s[38] = ['Pastorijstraat', 21, 51.220099, 4.432667]\n",
    "s[62] = ['Station Dam', 24, 51.231768, 4.426996]\n",
    "s[63] = ['Slachthuis', 36, 51.230044, 4.431642]\n",
    "s[73] = ['Maarschalk Gerard', 36, 51.212237, 4.403704]\n",
    "station_dict = sc.broadcast(s)\n",
    "\n",
    "\n",
    "# add station data to fields.\n",
    "def add_fields(line, separator):\n",
    "    fields = []\n",
    "    vals = line.split(separator)\n",
    "    # bike id\n",
    "    fields.append(int(vals[1]))\n",
    "    # day\n",
    "    if '.' in vals[9]:\n",
    "        date = datetime.strptime(vals[9][:-4], '%Y-%m-%d %H:%M:%S')\n",
    "    else:\n",
    "        date = datetime.strptime(vals[9], '%Y-%m-%d %H:%M:%S')\n",
    "    fields.append(date.day)\n",
    "    # month\n",
    "    fields.append(date.month)\n",
    "    # weekend\n",
    "    if date.weekday() == 5 or date.weekday() == 6:\n",
    "        fields.append(1)\n",
    "    else:\n",
    "        fields.append(0)\n",
    "    # hour\n",
    "    fields.append(date.hour)\n",
    "    # minute\n",
    "    fields.append(date.minute)\n",
    "    try:\n",
    "        # station ID\n",
    "        fields.append(int(vals[4]))\n",
    "        # station data\n",
    "        sd = station_dict.value\n",
    "        e = []\n",
    "        d = sd[int(vals[4])]\n",
    "        e.append(str(d[0]))\n",
    "        e.append(int(d[1]))\n",
    "        e.append(float(d[2]))\n",
    "        e.append(float(d[3]))\n",
    "        fields.extend(e)\n",
    "    except (KeyError, ValueError) as e:\n",
    "        # Filter dirty data\n",
    "        fields.extend([-1, 'Unknown', 0, 0.0, 0.0])\n",
    "        print(\"[INFO] Filtered dirty station data: \" + str(type(e).__name__) + \": \" + str(e.args))\n",
    "    # location length\n",
    "    try:\n",
    "        fields.append(float(vals[18]))\n",
    "    except ValueError as e:\n",
    "        # Filter dirty data\n",
    "        fields.append(0.0)\n",
    "        print(\"[INFO] Filtered dirty location length: \" + str(type(e).__name__) + \": \" + str(e.args))\n",
    "    # location type\n",
    "    fields.append(vals[8])\n",
    "\n",
    "    return fields\n",
    "\n",
    "\n",
    "# convert to a data frame.\n",
    "def convert_to_df(month):\n",
    "    if month == '2015-01':\n",
    "        separator = '\\t'\n",
    "    else:\n",
    "        separator = ';'\n",
    "\n",
    "    month_data = sc.textFile(name='./Velo_Archive/' + month + '.csv.gz')\n",
    "    month_rdd = (month_data\n",
    "                 .filter(lambda l: 'BikeLocationID' not in l)\n",
    "                 .map(lambda l: add_fields(l, separator))\n",
    "                 .filter(lambda l: len(l) == 13))\n",
    "\n",
    "    # apply the schema to the RDD.\n",
    "    month_df = sqlContext.createDataFrame(month_rdd, schema)\n",
    "\n",
    "    return month_df\n",
    "\n",
    "\n",
    "# Create data schema.\n",
    "fields = [StructField('bike_id', IntegerType(), True),\n",
    "          StructField('day', IntegerType(), True),\n",
    "          StructField('month', IntegerType(), True),\n",
    "          StructField('weekend', IntegerType(), True),\n",
    "          StructField('hour', IntegerType(), True),\n",
    "          StructField('minute', IntegerType(), True),\n",
    "          StructField('station_id', IntegerType(), True),\n",
    "          StructField('station_name', StringType(), True),\n",
    "          StructField('slots', IntegerType(), True),\n",
    "          StructField('lat', FloatType(), True),\n",
    "          StructField('lng', FloatType(), True),\n",
    "          StructField('location_length', FloatType(), True),\n",
    "          StructField('location_type', StringType(), True)]\n",
    "schema = StructType(fields)\n",
    "\n",
    "# Load trips and length.\n",
    "print('Loading data...')\n",
    "for i in range(1, len(MONTHS) + 1):\n",
    "    print('loading ' + MONTHS[i + -1])\n",
    "    # try:\n",
    "    month = '2015-' + str(i).zfill(2)\n",
    "    convert_to_df(month).registerTempTable(MONTHS[i - 1] + '_table')\n",
    "    #     print('pass')\n",
    "    # except BaseException as e:\n",
    "    #     bike_data.append(None)\n",
    "    #     print(str(type(e).__name__) + \": \" + str(e.args))\n",
    "print('Data loaded')\n",
    "\n",
    "# 151 stations\n",
    "# 28788 CustID's\n",
    "# header = 'BikeLocationID BikeID CityID SlotID StationID CentreCode CustID EmployeeID LocationType \\\n",
    "# BikeLocationDate PassType PassNumber LocationCreationDate LocationUpdateDate LocationCreationLogin \\\n",
    "# LocationUpdateLogin LocationIsBroken LocationExpired LocationLength LocationFreeMinutes LocationIsInvoiced \\\n",
    "# LocationReleaseDate LocationLengthInSeconds Expr1 Expr2'\n",
    "#\n",
    "# layout : id;objectid;lat;lng;obj_type;type;o_id;\n",
    "# naam;aantal_loc;ligging;orientatie;status;shape"
   ]
  },
  {
   "cell_type": "code",
   "execution_count": 3,
   "metadata": {
    "hide_input": false
   },
   "outputs": [
    {
     "data": {
      "text/plain": [
       "[[Row(CNT=284873, SUM=3164970.0)],\n",
       " [Row(CNT=270369, SUM=3069759.0)],\n",
       " [Row(CNT=334903, SUM=3668683.0)],\n",
       " [Row(CNT=337254, SUM=3865666.0)],\n",
       " [Row(CNT=348495, SUM=3997689.0)],\n",
       " [Row(CNT=376382, SUM=4526341.0)],\n",
       " [Row(CNT=319158, SUM=4018834.0)],\n",
       " [Row(CNT=327377, SUM=4521780.0)],\n",
       " [Row(CNT=336682, SUM=3862764.0)],\n",
       " [Row(CNT=364785, SUM=4343805.0)],\n",
       " [Row(CNT=294629, SUM=3468777.0)]]"
      ]
     },
     "execution_count": 3,
     "metadata": {},
     "output_type": "execute_result"
    }
   ],
   "source": [
    "# Run time: verry long.\n",
    "\n",
    "bike_data = []\n",
    "\n",
    "# Collect amount of trips per month and length of trips per month.\n",
    "for i in range(1, len(MONTHS) + 1):\n",
    "    sql = 'SELECT COUNT(*) AS CNT, SUM(location_length) AS SUM FROM ' + MONTHS[i - 1] + \\\n",
    "          '_table WHERE location_type = \\'A\\''\n",
    "    bike_data.append(sqlContext.sql(sql).collect())\n",
    "    \n",
    "bike_data"
   ]
  },
  {
   "cell_type": "markdown",
   "metadata": {},
   "source": [
    "## Monthly data"
   ]
  },
  {
   "cell_type": "code",
   "execution_count": 4,
   "metadata": {
    "collapsed": true,
    "hide_input": true,
    "scrolled": true
   },
   "outputs": [
    {
     "data": {
      "image/png": "[encoded data removed]",
      "text/plain": [
       "<matplotlib.figure.Figure at 0x7f2e4c038780>"
      ]
     },
     "metadata": {},
     "output_type": "display_data"
    }
   ],
   "source": [
    "# Run time: short.\n",
    "\n",
    "%matplotlib inline\n",
    "import matplotlib.pyplot as plt\n",
    "\n",
    "x_axis = [i+1 for i in range(11)]\n",
    "y_axis = []\n",
    "\n",
    "# Collect amount of trips per month from bike_data\n",
    "for data in bike_data:\n",
    "    # try:\n",
    "    y_axis.append(data[0]['CNT'])\n",
    "    # except:\n",
    "    #     y_axis.append(0)\n",
    "\n",
    "fig = plt.figure(figsize=(7, 7))\n",
    "fig.suptitle('Trips per month', fontsize=14)\n",
    "ax = fig.add_subplot(111)\n",
    "ax.set_xlabel('month')\n",
    "ax.set_ylabel('rentals')\n",
    "ax.bar(x_axis, y_axis, fc='darksalmon', align='center')\n",
    "plt.show()"
   ]
  },
  {
   "cell_type": "code",
   "execution_count": 5,
   "metadata": {
    "collapsed": true,
    "hide_input": true,
    "scrolled": true
   },
   "outputs": [
    {
     "data": {
      "image/png": "[encoded data removed]",
      "text/plain": [
       "<matplotlib.figure.Figure at 0x7f2e4d41a2b0>"
      ]
     },
     "metadata": {},
     "output_type": "display_data"
    }
   ],
   "source": [
    "# Run time: short.\n",
    "\n",
    "y_axis = []\n",
    "\n",
    "# Collect length of trips per month.\n",
    "for data in bike_data:\n",
    "    # try:\n",
    "    y_axis.append(data[0]['SUM'])\n",
    "    # except BaseException as e:\n",
    "    #     print(str(type(e).__name__) + \": \" + str(e.args))\n",
    "    #     y_axis.append(0)\n",
    "\n",
    "fig = plt.figure(figsize=(7, 7))\n",
    "fig.suptitle('Trip length in minutes per month', fontsize=14)\n",
    "ax = fig.add_subplot(111)\n",
    "ax.set_xlabel('month')\n",
    "ax.set_ylabel('minutes')\n",
    "ax.bar(x_axis, y_axis, fc='darksalmon', align='center')\n",
    "plt.show()"
   ]
  },
  {
   "cell_type": "code",
   "execution_count": 6,
   "metadata": {},
   "outputs": [
    {
     "data": {
      "image/png": "[encoded data removed]",
      "text/plain": [
       "<matplotlib.figure.Figure at 0x7f2e4486ecf8>"
      ]
     },
     "metadata": {},
     "output_type": "display_data"
    }
   ],
   "source": [
    "fig = plt.figure(figsize=(10, 5))\n",
    "fig.suptitle('Trip minutes per season', fontsize=15)\n",
    "ax = fig.add_subplot(111)\n",
    "\n",
    "ax.set_xlabel('Sezoenen')\n",
    "ax.set_ylabel('minutes')\n",
    "ax.bar(0, y_axis[2]+y_axis[3]+y_axis[4], fc='green', align='center') #lente\n",
    "ax.bar(1, y_axis[5]+y_axis[6]+y_axis[7], fc='yellow', align='center')#zomer\n",
    "ax.bar(2, y_axis[8]+y_axis[9]+y_axis[10], fc='brown', align='center') #herfst\n",
    "\n",
    "\n",
    "plt.show()"
   ]
  },
  {
   "cell_type": "markdown",
   "metadata": {
    "hide_input": true
   },
   "source": [
    "## Totals and Averages"
   ]
  },
  {
   "cell_type": "code",
   "execution_count": null,
   "metadata": {
    "collapsed": true,
    "hide_input": true
   },
   "outputs": [
    {
     "name": "stdout",
     "output_type": "stream",
     "text": [
      "Total trips : 326809.73\n",
      "Total minutes : 3864460.73 min\n",
      "Average rent time : 11.82 min\n"
     ]
    }
   ],
   "source": [
    "# Run time: short.\n",
    "\n",
    "total_trips = 0\n",
    "total_minutes = 0\n",
    "\n",
    "# Collect total trips and length of trips for each month.\n",
    "for data in bike_data:\n",
    "    # try:\n",
    "    total_trips += data[0]['CNT']\n",
    "    total_minutes += data[0]['SUM']\n",
    "    # except:\n",
    "    #     pass\n",
    "    \n",
    "print('Total trips : %.2f' % round(total_trips / 11, 2))\n",
    "print('Total minutes : %.2f min' % round(total_minutes / 11, 2))\n",
    "print('Average rent time : %.2f min' % round(total_minutes / total_trips, 2))"
   ]
  },
  {
   "cell_type": "code",
   "execution_count": null,
   "metadata": {
    "collapsed": true,
    "hide_input": true
   },
   "outputs": [
    {
     "name": "stdout",
     "output_type": "stream",
     "text": [
      "Average rent time january : 11.11 min\n"
     ]
    }
   ],
   "source": [
    "# Run time: long.\n",
    "# Collect Average rent time per month.\n",
    "for month in MONTHS:\n",
    "    # try:\n",
    "    print('Average rent time ' + month + ' : %.2f min'\n",
    "          % round(sqlContext.sql('SELECT AVG(location_length) FROM ' + month + '_table \\\n",
    "                                           WHERE location_type = \\'A\\'').collect()[0][0], 2))\n",
    "    # except:\n",
    "    #     pass\n"
   ]
  },
  {
   "cell_type": "markdown",
   "metadata": {
    "hide_input": true
   },
   "source": [
    "## Difference between arrivals and departures per station"
   ]
  },
  {
   "cell_type": "code",
   "execution_count": null,
   "metadata": {
    "collapsed": true,
    "hide_input": false
   },
   "outputs": [],
   "source": [
    "# Run time: short\n",
    "# Subract departures from arrivels\n",
    "def convert_row(row):\n",
    "    # try:\n",
    "    return [int(row.station_id), row.arrivals - row.departures]\n",
    "    # except:\n",
    "    #     pass\n",
    "\n",
    "\n",
    "# Collect total arrivals and depratures per month\n",
    "def make_station_data(month):\n",
    "    sql_str = 'SELECT station_id, \\\n",
    "        sum(case when location_type = \\'A\\' then 1 else 0 end) as arrivals, \\\n",
    "        sum(case when location_type = \\'R\\' then 1 else 0 end) as departures \\\n",
    "        FROM ' + month + '_table group by station_id'\n",
    "\n",
    "    return sqlContext.sql(sql_str).rdd.map(lambda r: convert_row(r)).collect()"
   ]
  },
  {
   "cell_type": "code",
   "execution_count": null,
   "metadata": {
    "collapsed": true,
    "hide_input": false,
    "scrolled": false
   },
   "outputs": [],
   "source": [
    "# Run time: long\n",
    "\n",
    "from IPython.display import HTML\n",
    "import folium\n",
    "\n",
    "# Retrieve total arrivels - departures.\n",
    "totals = make_station_data(MONTHS[8])\n",
    "print(MONTHS[8])\n",
    "\n",
    "# def create_map(m, height=650, title=''):\n",
    "#     srcdoc = m.HTML.replace('\"', '&quot;')\n",
    "#     embed = HTML(title + '<iframe srcdoc=\"{0}\" '\n",
    "#                  'style=\"width: 100%; height: {1}px; '\n",
    "#                  'border: none\"></iframe>'.format(srcdoc, height))\n",
    "#     return embed\n",
    "\n",
    "# Create map\n",
    "m = folium.Map(location=[51.217098, 4.417978], zoom_start=13)\n",
    "sd = station_dict.value\n",
    "\n",
    "# Put totals of locations on map.\n",
    "for total in totals:\n",
    "    try:\n",
    "        station = sd[int(total[0])]\n",
    "        if total[1] >= 0:\n",
    "            c = '#00FF00'\n",
    "        else:\n",
    "            c = '#ff0000'\n",
    "        r = abs(total[1]) / 12\n",
    "        p = station[0] + ' : ' + str(total[1])\n",
    "        folium.Circle(location=[station[2], station[3]], radius=r,\n",
    "                    popup=p, color=c).add_to(m)\n",
    "        # m.circle_marker(location=[station[2], station[3]], radius=r,\n",
    "        #             popup=p, line_color=c, fill_color=c)\n",
    "    except KeyError as e:\n",
    "        print(\"Filtered dirty data from map: \" + str(type(e).__name__) + \": \" + str(e.args))\n",
    "\n",
    "# Show map\n",
    "m"
   ]
  },
  {
   "cell_type": "code",
   "execution_count": null,
   "metadata": {
    "collapsed": true,
    "hide_input": true,
    "scrolled": false
   },
   "outputs": [],
   "source": [
    "# Run time: long\n",
    "\n",
    "sql_str = 'SELECT a.day, a.month, a.hour, a.station_id as id1, b.station_id as id2, \\\n",
    "            a.location_type as type1, b.location_type as type2 \\\n",
    "            FROM ' + MONTHS[8] + '_table a \\\n",
    "            INNER JOIN ' + MONTHS[8] + '_table b \\\n",
    "            ON (a.bike_id=b.bike_id AND a.day=b.day AND a.month=b.month AND a.hour=b.hour) \\\n",
    "            WHERE a.location_type=\\'R\\' AND b.location_type=\\'A\\' \\\n",
    "            OR a.location_type=\\'A\\' AND b.location_type=\\'R\\' \\\n",
    "            AND a.station_id<>b.station_id'\n",
    "# AND a.weekend=0'\n",
    "\n",
    "# Collect all trip information\n",
    "# Data content: (day, month, hour, id of first station, id of second station, if arrived or depparted from station one, if arrove or deprated from staiton one)\n",
    "all_trips = sqlContext.sql(sql_str).rdd.map(lambda r: (r.day, r.month, r.hour, r.id1, r.id2, r.type1, r.type2))\n",
    "all_trips.collect()"
   ]
  },
  {
   "cell_type": "code",
   "execution_count": null,
   "metadata": {
    "collapsed": true,
    "hide_input": true,
    "scrolled": true
   },
   "outputs": [],
   "source": [
    "# Run time: long\n",
    "\n",
    "# Collect trips per hour and put them in line graph.\n",
    "week_day = 9\n",
    "weekend_day = 13\n",
    "\n",
    "hours = [x for x in range(0, 24)]\n",
    "week_trips = []\n",
    "weekend_trips = []\n",
    "print(str(len(hours)))\n",
    "\n",
    "# Collect trips in the week\n",
    "for x in range(0, len(hours)):\n",
    "    week_trips.append(all_trips.filter(lambda tup: tup[0] == week_day and tup[1] == month and tup[2] == x).count())\n",
    "\n",
    "# Collect trips in the weekend\n",
    "for x in range(0, len(hours)):\n",
    "    weekend_trips.append(all_trips.filter(lambda tup: tup[0] == weekend_day and tup[1] == month and tup[2] == x).count())\n",
    "\n",
    "fig = plt.figure(figsize=(15, 5))\n",
    "plt1 = fig.add_subplot(121)\n",
    "fig.suptitle('Trips per hour for ' + str(week_day) + '/' + str(month)\n",
    "                     + ' and ' + str(weekend_day) + '/' + str(month), fontsize=14)\n",
    "plt1.plot(hours, week_trips)\n",
    "plt2 = fig.add_subplot(122)\n",
    "plt2.plot(hours, weekend_trips)"
   ]
  },
  {
   "cell_type": "code",
   "execution_count": null,
   "metadata": {
    "collapsed": true,
    "hide_input": false
   },
   "outputs": [],
   "source": [
    "# Run time: short\n",
    "\n",
    "def show_trips(day, month, hour, threshold=5):\n",
    "    trip_dict = {}\n",
    "    dep_arr_dict = {}\n",
    "    departure_dict = {}\n",
    "    sd = station_dict.value\n",
    "    trips = all_trips.filter(lambda tup: tup[0] == day\n",
    "                                         and tup[1] == month\n",
    "                                         and tup[2] == hour).collect()\n",
    "\n",
    "    # Create folium map\n",
    "    m = folium.Map(location=[51.217098, 4.417978], zoom_start=13)\n",
    "\n",
    "    # Check each trip and calculate amount of trips\n",
    "    for trip in trips:\n",
    "        key1 = str(trip[3]) + '-' + str(trip[4])\n",
    "        key2 = str(trip[4]) + '-' + str(trip[3])\n",
    "        if key1 in trip_dict:\n",
    "            trip_dict[key1] += 1\n",
    "        elif key2 in trip_dict:\n",
    "            trip_dict[key2] += 1\n",
    "        else:\n",
    "            trip_dict[key1] = 1\n",
    "\n",
    "        if trip[5] == 'A' and trip[6] == 'R':\n",
    "            if trip[3] in dep_arr_dict:\n",
    "                dep_arr_dict[trip[3]] += 1\n",
    "            else:\n",
    "                dep_arr_dict[trip[3]] = 1\n",
    "\n",
    "            if trip[4] in dep_arr_dict:\n",
    "                dep_arr_dict[trip[4]] -= 1\n",
    "            else:\n",
    "                dep_arr_dict[trip[4]] = -1\n",
    "        elif trip[5] == 'R' and trip[6] == 'A':\n",
    "            if trip[3] in dep_arr_dict:\n",
    "                dep_arr_dict[trip[3]] -= 1\n",
    "            else:\n",
    "                dep_arr_dict[trip[3]] = -1\n",
    "\n",
    "            if trip[4] in dep_arr_dict:\n",
    "                dep_arr_dict[trip[4]] += 1\n",
    "            else:\n",
    "                dep_arr_dict[trip[4]] = 1\n",
    "\n",
    "    # mark where bike went and add total arrivals - departures       \n",
    "    for trip in trip_dict.items():\n",
    "        size = int(trip[1])\n",
    "        stats = trip[0].split('-')\n",
    "        stat1 = int(stats[0])\n",
    "        stat2 = int(stats[1])\n",
    "        if size > threshold and stat1 != stat2:\n",
    "            coords = []\n",
    "            coords.append([sd[stat1][2], sd[stat1][3]])\n",
    "            coords.append([sd[stat2][2], sd[stat2][3]])\n",
    "\n",
    "            if dep_arr_dict[stat1] >= 0:\n",
    "                c1 = 'mediumseagreen'\n",
    "            else:\n",
    "                c1 = 'tomato'\n",
    "\n",
    "            r1 = abs(dep_arr_dict[stat1])\n",
    "            p1 = sd[stat1][0] + ' : ' + str(dep_arr_dict[stat1])\n",
    "            folium.Circle(location=[sd[stat1][2], sd[stat1][3]], radius=r1,\n",
    "                                popup=p1, color=c1).add_to(m)\n",
    "            # m.circle_marker(location=[sd[stat1][2], sd[stat1][3]], radius=r1,\n",
    "            #                popup=p1, line_color=c1, fill_color=c1)\n",
    "\n",
    "            if dep_arr_dict[stat2] >= 0:\n",
    "                c2 = 'mediumseagreen'\n",
    "            else:\n",
    "                c2 = 'tomato'\n",
    "\n",
    "            r2 = abs(dep_arr_dict[stat2])\n",
    "            p2 = sd[stat2][0] + ' : ' + str(dep_arr_dict[stat2])\n",
    "            folium.Circle(location=[sd[stat2][2], sd[stat2][3]], radius=r2,\n",
    "                                popup=p2, color=c2).add_to(m)\n",
    "            # m.circle_marker(location=[sd[stat2][2], sd[stat2][3]], radius=r2,\n",
    "            #                popup=p2, line_color=c2, fill_color=c2)\n",
    "\n",
    "            p = str(size) + ' trip'\n",
    "            if size > 1:\n",
    "                p += 's'\n",
    "            c = 'steelblue'\n",
    "            folium.PolyLine(coords, popup=p, line_color=c, line_weight=size / 2).add_to(m)\n",
    "            # m.line(coords, popup=p, line_color=c, line_weight=size/2)\n",
    "    \n",
    "    # Not used\n",
    "    # if int(inp_hour) < 12:\n",
    "    #     title = '<h3>' + str(inp_hour) + ' - ' + str(int(inp_hour) + 1) + ' AM' + '</h3><br/>'\n",
    "    # else:\n",
    "    #     title = '<h3>' + str(inp_hour) + ' - ' + str(int(inp_hour) + 1) + ' PM' + '</h3><br/>'\n",
    "\n",
    "    return m\n"
   ]
  },
  {
   "cell_type": "code",
   "execution_count": null,
   "metadata": {
    "hide_input": true,
    "scrolled": true
   },
   "outputs": [],
   "source": [
    "from IPython.display import HTML\n",
    "\n",
    "# If variables are not defined define them, if they are defined keep them as they are.\n",
    "if 'inp_hour' not in locals():\n",
    "    inp_hour = 4\n",
    "if 'inp_threshold' not in locals():\n",
    "    inp_threshold = 0\n",
    "\n",
    "form = \"\"\"\n",
    "<div style='background-color:gainsboro; border:solid black; width:300px; padding:20px;'>\n",
    "Hour : <input id='hour' type='range' min='3' max='23' step='1' value='\"\"\" + str(inp_hour) + \"\"\"'/>\n",
    "Threshold : <input id='threshold' type='range' min='0' max='20' step='1' value='\"\"\" + str(inp_threshold) + \"\"\"' />\n",
    "<button name ='button' value ='OK' type ='button' onclick='set_vars()'>Set vars</button>\n",
    "</div>\n",
    "\"\"\"\n",
    "javascript = \"\"\"\n",
    "<script type=\"text/Javascript\">\n",
    "    function set_vars(){\n",
    "        var var_name1 = 'inp_hour';\n",
    "        var var_name2 = 'inp_threshold'\n",
    "        var var_value1 = document.getElementById('hour').value;\n",
    "        var var_value2 = document.getElementById('threshold').value;\n",
    "        var command1 = var_name1 + \" = '\" + var_value1 + \"'\";\n",
    "        var command2 = var_name2 + \" = '\" + var_value2 + \"'\"; \n",
    "        var kernel = IPython.notebook.kernel;\n",
    "        kernel.execute(command1);\n",
    "        kernel.execute(command2);\n",
    "        cell = IPython.notebook.get_cell(15);\n",
    "        cell.execute();\n",
    "        cell.focus_cell();\n",
    "    }\n",
    "</script>\n",
    "\"\"\"\n",
    "\n",
    "HTML(form + javascript)"
   ]
  },
  {
   "cell_type": "code",
   "execution_count": null,
   "metadata": {
    "hide_input": false,
    "scrolled": true
   },
   "outputs": [],
   "source": [
    "# Run time: depends on treshhold.\n",
    "# Show trips based on the vars as set above\n",
    "show_trips(9, 9, int(inp_hour), int(inp_threshold))"
   ]
  },
  {
   "cell_type": "code",
   "execution_count": null,
   "metadata": {
    "collapsed": true,
    "hide_input": false
   },
   "outputs": [],
   "source": [
    "# Run time: short.\n",
    "\n",
    "def make_raw_dataset():\n",
    "    sql_str = ''\n",
    "    for i in range(0, 9):\n",
    "        if i != 5:\n",
    "            sql_str += 'SELECT station_id, day, ' + str(i) + ' as month, first(slots) as slots, \\\n",
    "                first(lat) as lat, first(lng) as lng, \\\n",
    "                sum(case when location_type = \\'A\\' then 1 else 0 end) as arrivals, \\\n",
    "                sum(case when location_type = \\'R\\' then 1 else 0 end) as departures \\\n",
    "                FROM ' + MONTHS[i] + '_table group by station_id, day \\\n",
    "                UNION '\n",
    "            \n",
    "    return sqlContext.sql(sql_str[:-6]) # strip off last 'UNION'"
   ]
  },
  {
   "cell_type": "code",
   "execution_count": null,
   "metadata": {
    "hide_input": false,
    "scrolled": false
   },
   "outputs": [],
   "source": [
    " Run time: long.\n",
    "\n",
    "from pyspark.mllib.regression import LabeledPoint\n",
    "\n",
    "total_data = (make_raw_dataset().rdd.map(lambda row: LabeledPoint(row.arrivals, \n",
    "                    [row.day, row.month, row.slots, row.lat, row.lng, row.departures])))\n",
    "\n",
    "weights = [.8, .2]\n",
    "seed = 42\n",
    "train_data, test_data = total_data.randomSplit(weights, seed)\n",
    "train_data.cache()\n",
    "#val_data.cache()\n",
    "test_data.cache()\n",
    "nTrain = train_data.count()\n",
    "#nVal = val_data.count()\n",
    "nTest = test_data.count()\n",
    "\n",
    "print('Training data : ' + str(nTrain))\n",
    "print('Test data : ' + str(nTest))"
   ]
  },
  {
   "cell_type": "code",
   "execution_count": null,
   "metadata": {
    "collapsed": true
   },
   "outputs": [],
   "source": []
  }
 ],
 "metadata": {
  "anaconda-cloud": {},
  "hide_input": false,
  "kernelspec": {
   "display_name": "Python 3",
   "language": "python",
   "name": "python3"
  },
  "language_info": {
   "codemirror_mode": {
    "name": "ipython",
    "version": 3
   },
   "file_extension": ".py",
   "mimetype": "text/x-python",
   "name": "python",
   "nbconvert_exporter": "python",
   "pygments_lexer": "ipython3",
   "version": "3.6.1"
  },
  "name": "velo",
  "notebookId": 17222
 },
 "nbformat": 4,
 "nbformat_minor": 1
}
