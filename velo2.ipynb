{
 "cells": [
  {
   "cell_type": "markdown",
   "metadata": {
    "hide_input": true
   },
   "source": [
    "# Velo Antwerpen"
   ]
  },
  {
   "cell_type": "code",
   "execution_count": 1,
   "metadata": {},
   "outputs": [
    {
     "name": "stdout",
     "output_type": "stream",
     "text": [
      "0.5.0\n"
     ]
    }
   ],
   "source": [
    "import folium\n",
    "\n",
    "print (folium.__version__)"
   ]
  },
  {
   "cell_type": "code",
   "execution_count": null,
   "metadata": {
    "hide_input": false
   },
   "outputs": [],
   "source": [
    "from pyspark.sql import SQLContext\n",
    "from pyspark import SparkContext\n",
    "from pyspark.sql.types import *\n",
    "from datetime import datetime\n",
    "\n",
    "# 151 stations\n",
    "# 28788 CustID's\n",
    "# header = 'BikeLocationID BikeID CityID SlotID StationID CentreCode CustID EmployeeID LocationType \\\n",
    "# BikeLocationDate PassType PassNumber LocationCreationDate LocationUpdateDate LocationCreationLogin \\\n",
    "# LocationUpdateLogin LocationIsBroken LocationExpired LocationLength LocationFreeMinutes LocationIsInvoiced \\\n",
    "# LocationReleaseDate LocationLengthInSeconds Expr1 Expr2'\n",
    "\n",
    "MONTHS = ['january','february','march','april','may','june','july','august','september','october','november']\n",
    "bike_data = []\n",
    "sc = SparkContext.getOrCreate()\n",
    "sqlContext = SQLContext.getOrCreate(sc=sc)\n",
    "\n",
    "# layout : id;objectid;lat;lng;obj_type;type;o_id;\n",
    "# naam;aantal_loc;ligging;orientatie;status;shape\n",
    "\n",
    "\n",
    "def make_station_dict(data):\n",
    "    station_dict = {}\n",
    "    station_lines = data.collect()\n",
    "    for line in station_lines:\n",
    "        line = line.replace('\"', '')\n",
    "        all_vals = line.split(';')\n",
    "        # key = station_nr, value = name, slots, lat, lng\n",
    "        station_dict[int(all_vals[6])] = [all_vals[7], int(all_vals[8]), \n",
    "                                              float(all_vals[2]), float(all_vals[3])]\n",
    "    return station_dict\n",
    "\n",
    "\n",
    "station_data = (sc.textFile(name='./Velo_Archive/velostation.csv').filter(lambda l: 'objectid' not in l)).cache()\n",
    "s = make_station_dict(station_data)\n",
    "# append missing station data\n",
    "s[13] = ['De Singel', 36, 51.193854, 4.402448]\n",
    "s[38] = ['Pastorijstraat', 21, 51.220099, 4.432667]\n",
    "s[62] = ['Station Dam', 24, 51.231768, 4.426996]\n",
    "s[63] = ['Slachthuis', 36, 51.230044, 4.431642]\n",
    "s[73] = ['Maarschalk Gerard', 36, 51.212237, 4.403704]\n",
    "station_dict = sc.broadcast(s)\n",
    "\n",
    "\n",
    "def add_fields(line, separator):\n",
    "    fields = []\n",
    "    vals = line.split(separator)\n",
    "    # bike id\n",
    "    fields.append(int(vals[1]))\n",
    "    # day\n",
    "    if '.' in vals[9]:\n",
    "        date = datetime.strptime(vals[9][:-4], '%Y-%m-%d %H:%M:%S')\n",
    "    else:\n",
    "        date = datetime.strptime(vals[9], '%Y-%m-%d %H:%M:%S')\n",
    "    fields.append(date.day)\n",
    "    # month\n",
    "    fields.append(date.month)\n",
    "    # weekend\n",
    "    if date.weekday() == 5 or date.weekday() == 6:\n",
    "        fields.append(1)\n",
    "    else:\n",
    "        fields.append(0)\n",
    "    # hour\n",
    "    fields.append(date.hour)\n",
    "    # minute\n",
    "    fields.append(date.minute)\n",
    "    try:\n",
    "        # station ID\n",
    "        fields.append(int(vals[4]))\n",
    "        # station data\n",
    "        sd = station_dict.value\n",
    "        e = []\n",
    "        d = sd[int(vals[4])]\n",
    "        e.append(str(d[0]))\n",
    "        e.append(int(d[1]))\n",
    "        e.append(float(d[2]))\n",
    "        e.append(float(d[3]))\n",
    "        fields.extend(e)\n",
    "    except:\n",
    "        fields.extend([-1, 'Unknown', 0, 0.0, 0.0])\n",
    "    # location length\n",
    "    try:\n",
    "        fields.append(float(vals[18]))\n",
    "    except:\n",
    "        fields.append(0.0)\n",
    "    # location type\n",
    "    fields.append(vals[8])\n",
    "    \n",
    "    return fields\n",
    "\n",
    "\n",
    "# convert to a dataframe\n",
    "def convert_to_df(month):\n",
    "    if month == '2015-01':\n",
    "        separator = '\\t'\n",
    "    else:\n",
    "        separator = ';'\n",
    "    \n",
    "    month_data = sc.textFile(name='./Velo_Archive/' + month + '.csv.gz')\n",
    "    month_rdd = (month_data\n",
    "                    .filter(lambda l: 'BikeLocationID' not in l)\n",
    "                    .map(lambda l: add_fields(l, separator))\n",
    "                    .filter(lambda l: len(l) == 13))\n",
    "    \n",
    "    # apply the schema to the RDD.\n",
    "    month_df = sqlContext.createDataFrame(month_rdd, schema)\n",
    "    \n",
    "    return month_df\n",
    "\n",
    "fields = []\n",
    "fields.append(StructField('bike_id', IntegerType(), True))\n",
    "fields.append(StructField('day', IntegerType(), True))\n",
    "fields.append(StructField('month', IntegerType(), True))\n",
    "fields.append(StructField('weekend', IntegerType(), True))\n",
    "fields.append(StructField('hour', IntegerType(), True))\n",
    "fields.append(StructField('minute', IntegerType(), True))\n",
    "fields.append(StructField('station_id', IntegerType(), True))\n",
    "fields.append(StructField('station_name', StringType(), True))\n",
    "fields.append(StructField('slots', IntegerType(), True))\n",
    "fields.append(StructField('lat', FloatType(), True))\n",
    "fields.append(StructField('lng', FloatType(), True))\n",
    "fields.append(StructField('location_length', FloatType(), True))\n",
    "fields.append(StructField('location_type', StringType(), True))\n",
    "schema = StructType(fields)\n",
    "\n",
    "print('Loading data...')\n",
    "for i in range(1, 12):\n",
    "    print('loading ' + str(i))\n",
    "    try:\n",
    "        month = '2015-' + str(i).zfill(2)\n",
    "        convert_to_df(month).registerTempTable(MONTHS[i - 1] + '_table')\n",
    "        sql = 'SELECT COUNT(*) AS CNT, SUM(location_length) AS SUM FROM ' + MONTHS[i - 1] + '_table WHERE location_type = \\'A\\''\n",
    "        bike_data.append(sqlContext.sql(sql).collect())\n",
    "        print ('pass')\n",
    "    except Exception as e:\n",
    "        bike_data.append(None)\n",
    "        print ('fail')\n",
    "print ('Data loaded')"
   ]
  },
  {
   "cell_type": "markdown",
   "metadata": {},
   "source": [
    "## Monthly data"
   ]
  },
  {
   "cell_type": "code",
   "execution_count": null,
   "metadata": {
    "hide_input": true,
    "scrolled": true
   },
   "outputs": [],
   "source": [
    "%matplotlib inline\n",
    "import matplotlib.pyplot as plt\n",
    "\n",
    "x_axis = [i+1 for i in range(11)]\n",
    "y_axis = []\n",
    "\n",
    "for i in range(11):\n",
    "    try:\n",
    "        y_axis.append(bike_data[i][0]['CNT'])\n",
    "    except:\n",
    "        y_axis.append(0)\n",
    "\n",
    "fig = plt.figure(figsize=(7, 7))\n",
    "fig.suptitle('Trips per month', fontsize=14)\n",
    "ax = fig.add_subplot(111)\n",
    "ax.set_xlabel('month')\n",
    "ax.set_ylabel('rentals')\n",
    "ax.bar(x_axis, y_axis, fc='darksalmon', align='center')\n",
    "plt.show()"
   ]
  },
  {
   "cell_type": "code",
   "execution_count": 5,
   "metadata": {
    "hide_input": true,
    "scrolled": true
   },
   "outputs": [
    {
     "data": {
      "image/png": "[encoded data removed]",
      "text/plain": [
       "<matplotlib.figure.Figure at 0x21e6195f390>"
      ]
     },
     "metadata": {},
     "output_type": "display_data"
    }
   ],
   "source": [
    "y_axis = []\n",
    "\n",
    "for i in range(11):\n",
    "    try:\n",
    "        y_axis.append(bike_data[i][0]['SUM'])\n",
    "    except:\n",
    "        y_axis.append(0)\n",
    "\n",
    "fig = plt.figure(figsize=(7, 7))\n",
    "fig.suptitle('Trip minutes per month', fontsize=14)\n",
    "ax = fig.add_subplot(111)\n",
    "ax.set_xlabel('month')\n",
    "ax.set_ylabel('minutes')\n",
    "ax.bar(x_axis, y_axis, fc='darksalmon', align='center')\n",
    "plt.show()"
   ]
  },
  {
   "cell_type": "markdown",
   "metadata": {
    "hide_input": true
   },
   "source": [
    "## Totals and Averages"
   ]
  },
  {
   "cell_type": "code",
   "execution_count": null,
   "metadata": {
    "hide_input": true
   },
   "outputs": [],
   "source": [
    "total_trips = 0\n",
    "total_minutes = 0\n",
    "\n",
    "for i in range(11):\n",
    "    try:\n",
    "        total_trips += bike_data[i][0]['CNT']\n",
    "        total_minutes += bike_data[i][0]['SUM']\n",
    "    except:\n",
    "        pass\n",
    "    \n",
    "print ('Total trips : %.2f' % round(total_trips / 11, 2))\n",
    "print ('Total minutes : %.2f min' % round(total_minutes / 11, 2))\n",
    "print ('Average rent time : %.2f min' % round(total_minutes / total_trips, 2))"
   ]
  },
  {
   "cell_type": "code",
   "execution_count": 6,
   "metadata": {
    "collapsed": true,
    "hide_input": true
   },
   "outputs": [],
   "source": [
    "for month in MONTHS:\n",
    "    try:\n",
    "        print ('Average rent time ' + month + ' : %.2f min' \n",
    "           % round(sqlContext.sql('SELECT AVG(location_length) FROM ' + month + '_table \\\n",
    "                                               WHERE location_type = \\'A\\'').collect()[0][0], 2))\n",
    "    except:\n",
    "        pass"
   ]
  },
  {
   "cell_type": "markdown",
   "metadata": {
    "hide_input": true
   },
   "source": [
    "## Difference between arrivals and departures per station"
   ]
  },
  {
   "cell_type": "code",
   "execution_count": null,
   "metadata": {
    "collapsed": true,
    "hide_input": false
   },
   "outputs": [],
   "source": [
    "def convert_row(row):\n",
    "    try:\n",
    "        return [int(row.station_id), row.arrivals - row.departures]\n",
    "    except:\n",
    "        pass\n",
    "\n",
    "def make_station_data(month):\n",
    "    sql_str = 'SELECT station_id, \\\n",
    "        sum(case when location_type = \\'A\\' then 1 else 0 end) as arrivals, \\\n",
    "        sum(case when location_type = \\'R\\' then 1 else 0 end) as departures \\\n",
    "        FROM ' + month + '_table group by station_id'\n",
    "\n",
    "    return sqlContext.sql(sql_str).rdd.map(lambda r: convert_row(r)).collect()"
   ]
  },
  {
   "cell_type": "code",
   "execution_count": 7,
   "metadata": {
    "hide_input": false,
    "scrolled": true
   },
   "outputs": [
    {
     "ename": "NameError",
     "evalue": "name 'make_station_data' is not defined",
     "output_type": "error",
     "traceback": [
      "\u001b[1;31m---------------------------------------------------------------------------\u001b[0m",
      "\u001b[1;31mNameError\u001b[0m                                 Traceback (most recent call last)",
      "\u001b[1;32m<ipython-input-7-cd661c5ca74b>\u001b[0m in \u001b[0;36m<module>\u001b[1;34m()\u001b[0m\n\u001b[0;32m      3\u001b[0m \u001b[1;33m\u001b[0m\u001b[0m\n\u001b[0;32m      4\u001b[0m \u001b[0mmonth\u001b[0m \u001b[1;33m=\u001b[0m \u001b[1;36m9\u001b[0m\u001b[1;33m\u001b[0m\u001b[0m\n\u001b[1;32m----> 5\u001b[1;33m \u001b[0mtotals\u001b[0m \u001b[1;33m=\u001b[0m \u001b[0mmake_station_data\u001b[0m\u001b[1;33m(\u001b[0m\u001b[0mMONTHS\u001b[0m\u001b[1;33m[\u001b[0m\u001b[0mmonth\u001b[0m \u001b[1;33m-\u001b[0m \u001b[1;36m1\u001b[0m\u001b[1;33m]\u001b[0m\u001b[1;33m)\u001b[0m\u001b[1;33m\u001b[0m\u001b[0m\n\u001b[0m\u001b[0;32m      6\u001b[0m \u001b[1;33m\u001b[0m\u001b[0m\n\u001b[0;32m      7\u001b[0m \u001b[1;32mdef\u001b[0m \u001b[0mcreate_map\u001b[0m\u001b[1;33m(\u001b[0m\u001b[0mm\u001b[0m\u001b[1;33m,\u001b[0m \u001b[0mheight\u001b[0m\u001b[1;33m=\u001b[0m\u001b[1;36m650\u001b[0m\u001b[1;33m,\u001b[0m \u001b[0mtitle\u001b[0m\u001b[1;33m=\u001b[0m\u001b[1;34m''\u001b[0m\u001b[1;33m)\u001b[0m\u001b[1;33m:\u001b[0m\u001b[1;33m\u001b[0m\u001b[0m\n",
      "\u001b[1;31mNameError\u001b[0m: name 'make_station_data' is not defined"
     ]
    }
   ],
   "source": [
    "from IPython.display import HTML\n",
    "import folium\n",
    "\n",
    "month = 9\n",
    "totals = make_station_data(MONTHS[month - 1])\n",
    "\n",
    "def create_map(m, height=650, title=''):\n",
    "    m._build_map()\n",
    "    srcdoc = m.HTML.replace('\"', '&quot;')\n",
    "    embed = HTML(title + '<iframe srcdoc=\"{0}\" '\n",
    "                 'style=\"width: 100%; height: {1}px; '\n",
    "                 'border: none\"></iframe>'.format(srcdoc, height))\n",
    "    return embed\n",
    "\n",
    "m = folium.Map(location=[51.217098, 4.417978], zoom_start=13)\n",
    "sd = station_dict.value\n",
    "\n",
    "for total in totals:\n",
    "    try:\n",
    "        station = sd[int(total[0])]\n",
    "        if total[1] >= 0:\n",
    "            c = 'mediumseagreen'\n",
    "        else:\n",
    "            c = 'tomato'\n",
    "        r = abs(total[1]) / 6\n",
    "        p = station[0] + ' : ' + str(total[1])\n",
    "        m.circle_marker(location=[station[2], station[3]], radius=r,\n",
    "                    popup=p, line_color=c, fill_color=c)\n",
    "    except:\n",
    "        pass\n",
    "\n",
    "create_map(m)"
   ]
  },
  {
   "cell_type": "code",
   "execution_count": null,
   "metadata": {
    "collapsed": true,
    "hide_input": true
   },
   "outputs": [],
   "source": [
    "month = 9\n",
    "\n",
    "sql_str = 'SELECT a.day, a.month, a.hour, a.station_id as id1, b.station_id as id2, \\\n",
    "            a.location_type as type1, b.location_type as type2 \\\n",
    "            FROM ' + MONTHS[month - 1] + '_table a \\\n",
    "            INNER JOIN ' + MONTHS[month - 1] + '_table b \\\n",
    "            ON (a.bike_id=b.bike_id AND a.day=b.day AND a.month=b.month AND a.hour=b.hour) \\\n",
    "            WHERE a.location_type=\\'R\\' AND b.location_type=\\'A\\' \\\n",
    "            OR a.location_type=\\'A\\' AND b.location_type=\\'R\\' \\\n",
    "            AND a.station_id<>b.station_id'\n",
    "            #AND a.weekend=0'\n",
    "\n",
    "all_trips = sqlContext.sql(sql_str).rdd.map(lambda r: (r.day, r.month, r.hour, r.id1, r.id2, r.type1, r.type2))\n",
    "all_trips.cache()\n",
    "pass"
   ]
  },
  {
   "cell_type": "code",
   "execution_count": null,
   "metadata": {
    "collapsed": true,
    "hide_input": true
   },
   "outputs": [],
   "source": [
    "week_day = 9\n",
    "weekend_day = 13\n",
    "\n",
    "hours = [x for x in range(0, 24)]\n",
    "week_trips = []\n",
    "weekend_trips = []\n",
    "\n",
    "for x in range(0, 24):\n",
    "    week_trips.append(all_trips.filter(lambda tup: tup[0] == week_day and tup[1] == month and tup[2] == x).count())\n",
    "\n",
    "for x in range(0, 24):\n",
    "    weekend_trips.append(all_trips.filter(lambda tup: tup[0] == weekend_day and tup[1] == month and tup[2] == x).count())\n",
    "\n",
    "fig = plt.figure(figsize=(15, 5))\n",
    "plt1 = fig.add_subplot(121)\n",
    "fig.suptitle('Trips per hour for ' + str(week_day) + '/' + str(month)\n",
    "                     + ' and ' + str(weekend_day) + '/' + str(month), fontsize=14)\n",
    "plt1.plot(hours, week_trips)\n",
    "plt2 = fig.add_subplot(122)\n",
    "plt2.plot(hours, weekend_trips)\n",
    "pass"
   ]
  },
  {
   "cell_type": "code",
   "execution_count": null,
   "metadata": {
    "collapsed": true,
    "hide_input": false
   },
   "outputs": [],
   "source": [
    "def show_trips(day, month, hour, threshold=5):\n",
    "    trip_dict = {}\n",
    "    dep_arr_dict = {}\n",
    "    departure_dict = {}\n",
    "    sd = station_dict.value\n",
    "    trips = all_trips.filter(lambda tup: tup[0] == day \n",
    "                                     and tup[1] == month \n",
    "                                     and tup[2] == hour).collect()\n",
    "    \n",
    "    m = folium.Map(location=[51.217098, 4.417978], zoom_start=13)\n",
    "    \n",
    "    for trip in trips:\n",
    "        key1 = str(trip[3]) + '-' + str(trip[4])\n",
    "        key2 = str(trip[4]) + '-' + str(trip[3])\n",
    "        if key1 in trip_dict:\n",
    "            trip_dict[key1] += 1\n",
    "        elif key2 in trip_dict:\n",
    "            trip_dict[key2] += 1\n",
    "        else:\n",
    "            trip_dict[key1] = 1\n",
    "        \n",
    "        if trip[5] == 'A' and trip[6] == 'R':\n",
    "            if trip[3] in dep_arr_dict:\n",
    "                dep_arr_dict[trip[3]] += 1\n",
    "            else:\n",
    "                dep_arr_dict[trip[3]] = 1\n",
    "                \n",
    "            if trip[4] in dep_arr_dict:\n",
    "                dep_arr_dict[trip[4]] -= 1\n",
    "            else:\n",
    "                dep_arr_dict[trip[4]] = -1\n",
    "        elif trip[5] == 'R' and trip[6] == 'A':\n",
    "            if trip[3] in dep_arr_dict:\n",
    "                dep_arr_dict[trip[3]] -= 1\n",
    "            else:\n",
    "                dep_arr_dict[trip[3]] = -1\n",
    "                \n",
    "            if trip[4] in dep_arr_dict:\n",
    "                dep_arr_dict[trip[4]] += 1\n",
    "            else:\n",
    "                dep_arr_dict[trip[4]] = 1\n",
    "        \n",
    "    for trip in trip_dict.items():\n",
    "        size = int(trip[1])\n",
    "        stats = trip[0].split('-')\n",
    "        stat1 = int(stats[0])\n",
    "        stat2 = int(stats[1])\n",
    "        if size > threshold and stat1 != stat2:\n",
    "            coords = []\n",
    "            coords.append([sd[stat1][2], sd[stat1][3]])\n",
    "            coords.append([sd[stat2][2], sd[stat2][3]])\n",
    "            \n",
    "            if dep_arr_dict[stat1] >= 0:\n",
    "                c1 = 'mediumseagreen'\n",
    "            else:\n",
    "                c1 = 'tomato'\n",
    "\n",
    "            r1 = abs(dep_arr_dict[stat1])\n",
    "            p1 = sd[stat1][0] + ' : ' + str(dep_arr_dict[stat1])\n",
    "            m.circle_marker(location=[sd[stat1][2], sd[stat1][3]], radius=r1,\n",
    "                            popup=p1, line_color=c1, fill_color=c1)\n",
    "\n",
    "            if dep_arr_dict[stat2] >= 0:\n",
    "                c2 = 'mediumseagreen'\n",
    "            else:\n",
    "                c2 = 'tomato'\n",
    "                \n",
    "            r2 = abs(dep_arr_dict[stat2])\n",
    "            p2 = sd[stat2][0] + ' : ' + str(dep_arr_dict[stat2])\n",
    "            m.circle_marker(location=[sd[stat2][2], sd[stat2][3]], radius=r2,\n",
    "                            popup=p2, line_color=c2, fill_color=c2)\n",
    "            \n",
    "            p = str(size) + ' trip'\n",
    "            if size > 1:\n",
    "                p += 's'\n",
    "            c = 'steelblue'\n",
    "            m.line(coords, popup=p, line_color=c, line_weight=size/2)\n",
    "    \n",
    "    if int(inp_hour) < 12:\n",
    "        title = '<h3>' + inp_hour + ' - ' + str(int(inp_hour) + 1) + ' AM' + '</h3><br/>'\n",
    "    else:\n",
    "        title = '<h3>' + inp_hour + ' - ' + str(int(inp_hour) + 1) + ' PM' + '</h3><br/>'\n",
    "        \n",
    "    return create_map(m, 650, title)"
   ]
  },
  {
   "cell_type": "code",
   "execution_count": 5,
   "metadata": {
    "hide_input": true,
    "scrolled": true
   },
   "outputs": [
    {
     "data": {
      "text/html": [
       "\n",
       "<div style='background-color:gainsboro; border:solid black; width:300px; padding:20px;'>\n",
       "Hour : <input id='hour' type='range' min='3' max='23' step='1' value='4' onchange='set_vars()'/>\n",
       "Threshold : <input id='threshold' type='range' min='0' max='20' step='1' value='0' onchange='set_vars()'\n",
       "</div>\n",
       "\n",
       "<script type=\"text/Javascript\">\n",
       "    function set_vars(){\n",
       "        var var_name1 = 'inp_hour';\n",
       "        var var_name2 = 'inp_threshold'\n",
       "        var var_value1 = document.getElementById('hour').value;\n",
       "        var var_value2 = document.getElementById('threshold').value;\n",
       "        var command1 = var_name1 + \" = '\" + var_value1 + \"'\";\n",
       "        var command2 = var_name2 + \" = '\" + var_value2 + \"'\"; \n",
       "        var kernel = IPython.notebook.kernel;\n",
       "        kernel.execute(command1);\n",
       "        kernel.execute(command2);\n",
       "        cell = IPython.notebook.get_cell(15);\n",
       "        cell.execute();\n",
       "        cell.focus_cell();\n",
       "    }\n",
       "</script>\n"
      ],
      "text/plain": [
       "<IPython.core.display.HTML object>"
      ]
     },
     "execution_count": 5,
     "metadata": {},
     "output_type": "execute_result"
    }
   ],
   "source": [
    "from IPython.display import HTML\n",
    "\n",
    "form = \"\"\"\n",
    "<div style='background-color:gainsboro; border:solid black; width:300px; padding:20px;'>\n",
    "Hour : <input id='hour' type='range' min='3' max='23' step='1' value='4' onchange='set_vars()'/>\n",
    "Threshold : <input id='threshold' type='range' min='0' max='20' step='1' value='0' onchange='set_vars()'\n",
    "</div>\n",
    "\"\"\"\n",
    "javascript = \"\"\"\n",
    "<script type=\"text/Javascript\">\n",
    "    function set_vars(){\n",
    "        var var_name1 = 'inp_hour';\n",
    "        var var_name2 = 'inp_threshold'\n",
    "        var var_value1 = document.getElementById('hour').value;\n",
    "        var var_value2 = document.getElementById('threshold').value;\n",
    "        var command1 = var_name1 + \" = '\" + var_value1 + \"'\";\n",
    "        var command2 = var_name2 + \" = '\" + var_value2 + \"'\"; \n",
    "        var kernel = IPython.notebook.kernel;\n",
    "        kernel.execute(command1);\n",
    "        kernel.execute(command2);\n",
    "        cell = IPython.notebook.get_cell(15);\n",
    "        cell.execute();\n",
    "        cell.focus_cell();\n",
    "    }\n",
    "</script>\n",
    "\"\"\"\n",
    "\n",
    "HTML(form + javascript)"
   ]
  },
  {
   "cell_type": "code",
   "execution_count": 24,
   "metadata": {
    "hide_input": false,
    "scrolled": false
   },
   "outputs": [
    {
     "ename": "NameError",
     "evalue": "name 'inp_hour' is not defined",
     "output_type": "error",
     "traceback": [
      "\u001b[1;31m---------------------------------------------------------------------------\u001b[0m",
      "\u001b[1;31mNameError\u001b[0m                                 Traceback (most recent call last)",
      "\u001b[1;32m<ipython-input-24-007dcc75b2f3>\u001b[0m in \u001b[0;36m<module>\u001b[1;34m()\u001b[0m\n\u001b[1;32m----> 1\u001b[1;33m \u001b[0mshow_trips\u001b[0m\u001b[1;33m(\u001b[0m\u001b[1;36m9\u001b[0m\u001b[1;33m,\u001b[0m \u001b[1;36m9\u001b[0m\u001b[1;33m,\u001b[0m \u001b[0mint\u001b[0m\u001b[1;33m(\u001b[0m\u001b[0minp_hour\u001b[0m\u001b[1;33m)\u001b[0m\u001b[1;33m,\u001b[0m \u001b[0mint\u001b[0m\u001b[1;33m(\u001b[0m\u001b[0minp_threshold\u001b[0m\u001b[1;33m)\u001b[0m\u001b[1;33m)\u001b[0m\u001b[1;33m\u001b[0m\u001b[0m\n\u001b[0m",
      "\u001b[1;31mNameError\u001b[0m: name 'inp_hour' is not defined"
     ]
    }
   ],
   "source": [
    "show_trips(9, 9, int(inp_hour), int(inp_threshold))"
   ]
  },
  {
   "cell_type": "code",
   "execution_count": 25,
   "metadata": {
    "collapsed": true,
    "hide_input": false
   },
   "outputs": [],
   "source": [
    "def make_raw_dataset():\n",
    "    sql_str = ''\n",
    "    for i in range(0, 9):\n",
    "        if i != 5:\n",
    "            sql_str += 'SELECT station_id, day, ' + str(i) + ' as month, first(slots) as slots, \\\n",
    "                first(lat) as lat, first(lng) as lng, \\\n",
    "                sum(case when location_type = \\'A\\' then 1 else 0 end) as arrivals, \\\n",
    "                sum(case when location_type = \\'R\\' then 1 else 0 end) as departures \\\n",
    "                FROM ' + MONTHS[i] + '_table group by station_id, day \\\n",
    "                UNION '\n",
    "            \n",
    "    return sqlContext.sql(sql_str[:-6]) # strip off last 'UNION'"
   ]
  },
  {
   "cell_type": "code",
   "execution_count": 14,
   "metadata": {
    "hide_input": false,
    "scrolled": false
   },
   "outputs": [
    {
     "ename": "NameError",
     "evalue": "name 'months' is not defined",
     "output_type": "error",
     "traceback": [
      "\u001b[1;31m---------------------------------------------------------------------------\u001b[0m",
      "\u001b[1;31mNameError\u001b[0m                                 Traceback (most recent call last)",
      "\u001b[1;32m<ipython-input-14-458b0ea0bf4f>\u001b[0m in \u001b[0;36m<module>\u001b[1;34m()\u001b[0m\n\u001b[0;32m      3\u001b[0m \u001b[1;32mimport\u001b[0m \u001b[0mmath\u001b[0m\u001b[1;33m\u001b[0m\u001b[0m\n\u001b[0;32m      4\u001b[0m \u001b[1;33m\u001b[0m\u001b[0m\n\u001b[1;32m----> 5\u001b[1;33m total_data = (make_raw_dataset().map(lambda row: LabeledPoint(row.arrivals, \n\u001b[0m\u001b[0;32m      6\u001b[0m                     [row.day, row.month, row.slots, row.lat, row.lng, row.departures])))\n\u001b[0;32m      7\u001b[0m \u001b[1;33m\u001b[0m\u001b[0m\n",
      "\u001b[1;32m<ipython-input-10-db5bdbd218e6>\u001b[0m in \u001b[0;36mmake_raw_dataset\u001b[1;34m()\u001b[0m\n\u001b[0;32m      3\u001b[0m     \u001b[1;32mfor\u001b[0m \u001b[0mi\u001b[0m \u001b[1;32min\u001b[0m \u001b[0mrange\u001b[0m\u001b[1;33m(\u001b[0m\u001b[1;36m0\u001b[0m\u001b[1;33m,\u001b[0m \u001b[1;36m9\u001b[0m\u001b[1;33m)\u001b[0m\u001b[1;33m:\u001b[0m\u001b[1;33m\u001b[0m\u001b[0m\n\u001b[0;32m      4\u001b[0m         \u001b[1;32mif\u001b[0m \u001b[0mi\u001b[0m \u001b[1;33m!=\u001b[0m \u001b[1;36m5\u001b[0m\u001b[1;33m:\u001b[0m\u001b[1;33m\u001b[0m\u001b[0m\n\u001b[1;32m----> 5\u001b[1;33m             \u001b[0msql_str\u001b[0m \u001b[1;33m+=\u001b[0m \u001b[1;34m'SELECT station_id, day, '\u001b[0m \u001b[1;33m+\u001b[0m \u001b[0mstr\u001b[0m\u001b[1;33m(\u001b[0m\u001b[0mi\u001b[0m\u001b[1;33m)\u001b[0m \u001b[1;33m+\u001b[0m \u001b[1;34m' as month, first(slots) as slots,                 first(lat) as lat, first(lng) as lng,                 sum(case when location_type = \\'A\\' then 1 else 0 end) as arrivals,                 sum(case when location_type = \\'R\\' then 1 else 0 end) as departures                 FROM '\u001b[0m \u001b[1;33m+\u001b[0m \u001b[0mmonths\u001b[0m\u001b[1;33m[\u001b[0m\u001b[0mi\u001b[0m\u001b[1;33m]\u001b[0m \u001b[1;33m+\u001b[0m \u001b[1;34m'_table group by station_id, day                 UNION '\u001b[0m\u001b[1;33m\u001b[0m\u001b[0m\n\u001b[0m\u001b[0;32m      6\u001b[0m \u001b[1;33m\u001b[0m\u001b[0m\n\u001b[0;32m      7\u001b[0m     \u001b[1;32mreturn\u001b[0m \u001b[0msqlContext\u001b[0m\u001b[1;33m.\u001b[0m\u001b[0msql\u001b[0m\u001b[1;33m(\u001b[0m\u001b[0msql_str\u001b[0m\u001b[1;33m[\u001b[0m\u001b[1;33m:\u001b[0m\u001b[1;33m-\u001b[0m\u001b[1;36m6\u001b[0m\u001b[1;33m]\u001b[0m\u001b[1;33m)\u001b[0m \u001b[1;31m# strip off last 'UNION'\u001b[0m\u001b[1;33m\u001b[0m\u001b[0m\n",
      "\u001b[1;31mNameError\u001b[0m: name 'months' is not defined"
     ]
    }
   ],
   "source": [
    "from pyspark.mllib.regression import LabeledPoint\n",
    "import itertools\n",
    "import math\n",
    "\n",
    "total_data = (make_raw_dataset().map(lambda row: LabeledPoint(row.arrivals, \n",
    "                    [row.day, row.month, row.slots, row.lat, row.lng, row.departures])))\n",
    "\n",
    "weights = [.8, .2]\n",
    "seed = 42\n",
    "train_data, test_data = total_data.randomSplit(weights, seed)\n",
    "train_data.cache()\n",
    "#val_data.cache()\n",
    "test_data.cache()\n",
    "nTrain = train_data.count()\n",
    "#nVal = val_data.count()\n",
    "nTest = test_data.count()\n",
    "\n",
    "#print 'Training data : ' + str(nTrain)\n",
    "#print 'Test data : ' +  str(nTest)\n",
    "\n"
   ]
  },
  {
   "cell_type": "code",
   "execution_count": null,
   "metadata": {
    "collapsed": true
   },
   "outputs": [],
   "source": []
  }
 ],
 "metadata": {
  "anaconda-cloud": {},
  "hide_input": false,
  "kernelspec": {
   "display_name": "Python 3",
   "language": "python",
   "name": "python3"
  },
  "name": "velo",
  "notebookId": 17222
 },
 "nbformat": 4,
 "nbformat_minor": 1
}
